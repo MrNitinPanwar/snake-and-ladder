{
 "cells": [
  {
   "cell_type": "code",
   "execution_count": 10,
   "id": "74118d00-5456-44dd-8434-1d3aa83772af",
   "metadata": {},
   "outputs": [
    {
     "name": "stdout",
     "output_type": "stream",
     "text": [
      "𝐃𝐢𝐜𝐞 𝐫𝐨𝐥𝐥𝐬 6\n",
      "𝐓𝐨𝐭𝐚𝐥 𝐩𝐨𝐢𝐧𝐭𝐬 = 6\n",
      "𝐃𝐢𝐜𝐞 𝐫𝐨𝐥𝐥𝐬 4\n",
      "𝐓𝐨𝐭𝐚𝐥 𝐩𝐨𝐢𝐧𝐭𝐬 = 10\n",
      "𝐃𝐢𝐜𝐞 𝐫𝐨𝐥𝐥𝐬 6\n",
      "𝐓𝐨𝐭𝐚𝐥 𝐩𝐨𝐢𝐧𝐭𝐬 = 16\n",
      "𝐃𝐢𝐜𝐞 𝐫𝐨𝐥𝐥𝐬 1\n",
      "𝐓𝐨𝐭𝐚𝐥 𝐩𝐨𝐢𝐧𝐭𝐬 = 17\n",
      "𝐃𝐢𝐜𝐞 𝐫𝐨𝐥𝐥𝐬 1\n",
      "𝐓𝐨𝐭𝐚𝐥 𝐩𝐨𝐢𝐧𝐭𝐬 = 18\n",
      "𝐃𝐢𝐜𝐞 𝐫𝐨𝐥𝐥𝐬 1\n",
      "🟢𝐘𝐨𝐮 𝐓𝐨𝐨𝐤 𝐚 𝐋𝐚𝐝𝐝𝐞𝐫 𝐭𝐨 = 41\n",
      "𝐓𝐨𝐭𝐚𝐥 𝐩𝐨𝐢𝐧𝐭𝐬 = 41\n",
      "𝐃𝐢𝐜𝐞 𝐫𝐨𝐥𝐥𝐬 3\n",
      "𝐓𝐨𝐭𝐚𝐥 𝐩𝐨𝐢𝐧𝐭𝐬 = 44\n",
      "𝐃𝐢𝐜𝐞 𝐫𝐨𝐥𝐥𝐬 6\n",
      "𝐓𝐨𝐭𝐚𝐥 𝐩𝐨𝐢𝐧𝐭𝐬 = 50\n",
      "𝐃𝐢𝐜𝐞 𝐫𝐨𝐥𝐥𝐬 6\n",
      "𝐓𝐨𝐭𝐚𝐥 𝐩𝐨𝐢𝐧𝐭𝐬 = 56\n",
      "𝐃𝐢𝐜𝐞 𝐫𝐨𝐥𝐥𝐬 3\n",
      "𝐓𝐨𝐭𝐚𝐥 𝐩𝐨𝐢𝐧𝐭𝐬 = 59\n",
      "𝐃𝐢𝐜𝐞 𝐫𝐨𝐥𝐥𝐬 2\n",
      "𝐓𝐨𝐭𝐚𝐥 𝐩𝐨𝐢𝐧𝐭𝐬 = 61\n",
      "𝐃𝐢𝐜𝐞 𝐫𝐨𝐥𝐥𝐬 5\n",
      "🟢𝐘𝐨𝐮 𝐓𝐨𝐨𝐤 𝐚 𝐋𝐚𝐝𝐝𝐞𝐫 𝐭𝐨 = 96\n",
      "𝐓𝐨𝐭𝐚𝐥 𝐩𝐨𝐢𝐧𝐭𝐬 = 96\n",
      "𝐃𝐢𝐜𝐞 𝐫𝐨𝐥𝐥𝐬 1\n",
      "𝐓𝐨𝐭𝐚𝐥 𝐩𝐨𝐢𝐧𝐭𝐬 = 97\n",
      "𝐃𝐢𝐜𝐞 𝐫𝐨𝐥𝐥𝐬 2\n",
      "𝐓𝐨𝐭𝐚𝐥 𝐩𝐨𝐢𝐧𝐭𝐬 = 99\n",
      "𝐃𝐢𝐜𝐞 𝐫𝐨𝐥𝐥𝐬 6\n"
     ]
    }
   ],
   "source": [
    "import random\n",
    "total=0\n",
    "for i in range(100):\n",
    "    f=[1,2,3,4,5,6]\n",
    "    f1=random.choice(f)\n",
    "    print(\"𝐃𝐢𝐜𝐞 𝐫𝐨𝐥𝐥𝐬\",f1)\n",
    "    f2=[[3,24,1],[9,34,1],[19,41,1],[26,56,1],[29,50,1],[38,44,1],[47,72,1],[58,77,1],[66,96,1],[73,94,1],[80,82,1],[23,2,0],[30,8,0],[49,6,0],[60,39,0],[74,35,0],[78,59,0],[92,48,0],[97,16,0]]\n",
    "    total=total+f1\n",
    "    for i in range(len(f2)):\n",
    "        if total==f2[i][0] and f2[i][2]==1:\n",
    "            f3=f2[i][1]-f2[i][0]\n",
    "            total=total+f3\n",
    "            print(\"🟢𝐘𝐨𝐮 𝐓𝐨𝐨𝐤 𝐚 𝐋𝐚𝐝𝐝𝐞𝐫 𝐭𝐨 =\", total)\n",
    "            if total==f2[i][0] and f2[i][2]==0:\n",
    "                total=total-f2[i][1]\n",
    "    if total>=100:\n",
    "                break\n",
    "    print(\"𝐓𝐨𝐭𝐚𝐥 𝐩𝐨𝐢𝐧𝐭𝐬 =\",total)"
   ]
  },
  {
   "cell_type": "code",
   "execution_count": null,
   "id": "8ba5505e-6f1e-422d-92fc-a677e0cf474b",
   "metadata": {},
   "outputs": [],
   "source": []
  },
  {
   "cell_type": "code",
   "execution_count": null,
   "id": "6bbfc1e7-5e99-45b3-85e9-cb9431689823",
   "metadata": {},
   "outputs": [],
   "source": []
  }
 ],
 "metadata": {
  "kernelspec": {
   "display_name": "Python 3 (ipykernel)",
   "language": "python",
   "name": "python3"
  },
  "language_info": {
   "codemirror_mode": {
    "name": "ipython",
    "version": 3
   },
   "file_extension": ".py",
   "mimetype": "text/x-python",
   "name": "python",
   "nbconvert_exporter": "python",
   "pygments_lexer": "ipython3",
   "version": "3.12.0"
  }
 },
 "nbformat": 4,
 "nbformat_minor": 5
}
